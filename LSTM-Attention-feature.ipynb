{
 "cells": [
  {
   "cell_type": "code",
   "execution_count": 85,
   "metadata": {},
   "outputs": [],
   "source": [
    "#导入必要的库\n",
    "import numpy as np\n",
    "import matplotlib.pyplot as plt\n",
    "import pandas as pd\n",
    "from sklearn import preprocessing\n",
    "from sklearn.metrics import mean_squared_error\n",
    "from sklearn.metrics import mean_absolute_error\n",
    "from math import sqrt\n",
    "from tensorflow.keras.layers import *\n",
    "from tensorflow.keras.models import *\n",
    "from tensorflow.keras.optimizers import Adam\n",
    "import tensorflow.keras.backend as K\n",
    "plt.style.use('seaborn')\n",
    "np.random.seed(100)"
   ]
  },
  {
   "cell_type": "code",
   "execution_count": 86,
   "metadata": {},
   "outputs": [
    {
     "data": {
      "text/html": [
       "<div>\n",
       "<style scoped>\n",
       "    .dataframe tbody tr th:only-of-type {\n",
       "        vertical-align: middle;\n",
       "    }\n",
       "\n",
       "    .dataframe tbody tr th {\n",
       "        vertical-align: top;\n",
       "    }\n",
       "\n",
       "    .dataframe thead th {\n",
       "        text-align: right;\n",
       "    }\n",
       "</style>\n",
       "<table border=\"1\" class=\"dataframe\">\n",
       "  <thead>\n",
       "    <tr style=\"text-align: right;\">\n",
       "      <th></th>\n",
       "      <th>open</th>\n",
       "      <th>low</th>\n",
       "      <th>close</th>\n",
       "      <th>high</th>\n",
       "    </tr>\n",
       "  </thead>\n",
       "  <tbody>\n",
       "    <tr>\n",
       "      <th>26272</th>\n",
       "      <td>7.1042</td>\n",
       "      <td>7.1042</td>\n",
       "      <td>7.1048</td>\n",
       "      <td>7.1055</td>\n",
       "    </tr>\n",
       "    <tr>\n",
       "      <th>26273</th>\n",
       "      <td>7.1047</td>\n",
       "      <td>7.1038</td>\n",
       "      <td>7.1038</td>\n",
       "      <td>7.1047</td>\n",
       "    </tr>\n",
       "    <tr>\n",
       "      <th>26274</th>\n",
       "      <td>7.1039</td>\n",
       "      <td>7.1039</td>\n",
       "      <td>7.1046</td>\n",
       "      <td>7.1047</td>\n",
       "    </tr>\n",
       "    <tr>\n",
       "      <th>26275</th>\n",
       "      <td>7.1048</td>\n",
       "      <td>7.1043</td>\n",
       "      <td>7.1045</td>\n",
       "      <td>7.1049</td>\n",
       "    </tr>\n",
       "    <tr>\n",
       "      <th>26276</th>\n",
       "      <td>7.1049</td>\n",
       "      <td>7.1049</td>\n",
       "      <td>7.1057</td>\n",
       "      <td>7.1057</td>\n",
       "    </tr>\n",
       "  </tbody>\n",
       "</table>\n",
       "</div>"
      ],
      "text/plain": [
       "         open     low   close    high\n",
       "26272  7.1042  7.1042  7.1048  7.1055\n",
       "26273  7.1047  7.1038  7.1038  7.1047\n",
       "26274  7.1039  7.1039  7.1046  7.1047\n",
       "26275  7.1048  7.1043  7.1045  7.1049\n",
       "26276  7.1049  7.1049  7.1057  7.1057"
      ]
     },
     "execution_count": 86,
     "metadata": {},
     "output_type": "execute_result"
    }
   ],
   "source": [
    "#设置神经网络参数\n",
    "batch_size=64\n",
    "epoch=10\n",
    "test_ratio=.1\n",
    "windows=12\n",
    "scale=1.0#归一化参数\n",
    "lstm_units=12\n",
    "#读取数据\n",
    "df=pd.read_csv('data.csv') \n",
    "df=df.iloc[:,2:]\n",
    "df.tail()"
   ]
  },
  {
   "cell_type": "code",
   "execution_count": 87,
   "metadata": {},
   "outputs": [
    {
     "name": "stdout",
     "output_type": "stream",
     "text": [
      "(23637, 12, 4)\n",
      "(2628, 12, 4)\n",
      "(23637,)\n",
      "(2628,)\n"
     ]
    }
   ],
   "source": [
    "y=df['close']\n",
    "data = np.array(df)/scale\n",
    "cut = round(test_ratio* data.shape[0])\n",
    "amount_of_features=data.shape[1]\n",
    "lstm_input=[]\n",
    "data_temp=data\n",
    "for i in range(len(data_temp)-windows):\n",
    "    lstm_input.append(data_temp[i:i+windows,:])\n",
    "lstm_input=np.array(lstm_input)\n",
    "#print(lstm_input.shape)\n",
    "lstm_output=y[:-windows]\n",
    "lstm_output=np.array(lstm_output)\n",
    "#print(lstm_output.shape)\n",
    "x_train,y_train,x_test,y_test=\\\n",
    "lstm_input[:-cut,:,:],lstm_output[:-cut:],lstm_input[-cut:,:,:],lstm_output[-cut:]\n",
    "print(x_train.shape)\n",
    "print(x_test.shape)\n",
    "print(y_train.shape)\n",
    "print(y_test.shape)"
   ]
  },
  {
   "cell_type": "code",
   "execution_count": 88,
   "metadata": {},
   "outputs": [
    {
     "name": "stdout",
     "output_type": "stream",
     "text": [
      "Model: \"functional_64\"\n",
      "__________________________________________________________________________________________________\n",
      "Layer (type)                    Output Shape         Param #     Connected to                     \n",
      "==================================================================================================\n",
      "input_55 (InputLayer)           [(None, 12, 4)]      0                                            \n",
      "__________________________________________________________________________________________________\n",
      "permute_90 (Permute)            (None, 4, 12)        0           input_55[0][0]                   \n",
      "__________________________________________________________________________________________________\n",
      "lstm_49 (LSTM)                  (None, 4, 12)        1200        permute_90[0][0]                 \n",
      "__________________________________________________________________________________________________\n",
      "permute_91 (Permute)            (None, 12, 4)        0           lstm_49[0][0]                    \n",
      "__________________________________________________________________________________________________\n",
      "dim_reduction (Lambda)          (None, 4)            0           permute_91[0][0]                 \n",
      "__________________________________________________________________________________________________\n",
      "attention_vec (Dense)           (None, 4)            20          dim_reduction[0][0]              \n",
      "__________________________________________________________________________________________________\n",
      "attention_weight (Activation)   (None, 4)            0           attention_vec[0][0]              \n",
      "__________________________________________________________________________________________________\n",
      "multiply_36 (Multiply)          (None, 4)            0           dim_reduction[0][0]              \n",
      "                                                                 attention_weight[0][0]           \n",
      "__________________________________________________________________________________________________\n",
      "dense_54 (Dense)                (None, 1)            5           multiply_36[0][0]                \n",
      "==================================================================================================\n",
      "Total params: 1,225\n",
      "Trainable params: 1,225\n",
      "Non-trainable params: 0\n",
      "__________________________________________________________________________________________________\n"
     ]
    }
   ],
   "source": [
    "#建立模型 训练\n",
    "inputs=Input(shape=(windows,amount_of_features))\n",
    "lstm_inputs=Permute([2,1])(inputs)\n",
    "lstm=LSTM(lstm_units,activation='relu', return_sequences=True)(lstm_inputs)\n",
    "lstm=Permute([2,1])(lstm)#置换维度\n",
    "#attention= Reshape((windows,amount_of_features))(attention) \n",
    "#attention=Dense(windows, activation='softmax')(attention)\n",
    "lstm=Lambda(lambda x: K.mean(x, axis=1), name='dim_reduction')(lstm)\n",
    "attention=Dense(amount_of_features, activation='sigmoid', name='attention_vec')(lstm)#求解Attention权重\n",
    "attention=Activation('softmax',name='attention_weight')(attention)\n",
    "#attention=RepeatVector(amount_of_features)(attention)#重复几次输入\n",
    "#attention_prob=Permute([1,2],name='attention_vec')(attention)#置换维度\n",
    "#attention=Activation('softmax',name='attention_weight')(attention)\n",
    "model=Multiply()([lstm, attention])#attention与LSTM对应数值相乘\n",
    "#model=Flatten()(model)#降低为一维\n",
    "outputs = Dense(1, activation='relu')(model)\n",
    "model = Model(inputs=inputs, outputs=outputs)\n",
    "model.compile(loss='mse',optimizer='adam',metrics=['accuracy'])\n",
    "model.summary()#展示模型结构"
   ]
  },
  {
   "cell_type": "code",
   "execution_count": 89,
   "metadata": {},
   "outputs": [
    {
     "name": "stdout",
     "output_type": "stream",
     "text": [
      "Epoch 1/10\n",
      "333/333 [==============================] - 1s 2ms/step - loss: 49.1589 - accuracy: 0.0000e+00 - val_loss: 50.0927 - val_accuracy: 0.0000e+00\n",
      "Epoch 2/10\n",
      "333/333 [==============================] - 1s 2ms/step - loss: 49.1589 - accuracy: 0.0000e+00 - val_loss: 50.0927 - val_accuracy: 0.0000e+00\n",
      "Epoch 3/10\n",
      "333/333 [==============================] - 1s 2ms/step - loss: 49.1589 - accuracy: 0.0000e+00 - val_loss: 50.0927 - val_accuracy: 0.0000e+00\n",
      "Epoch 4/10\n",
      "333/333 [==============================] - 1s 2ms/step - loss: 49.1589 - accuracy: 0.0000e+00 - val_loss: 50.0927 - val_accuracy: 0.0000e+00\n",
      "Epoch 5/10\n",
      "333/333 [==============================] - 1s 2ms/step - loss: 49.1589 - accuracy: 0.0000e+00 - val_loss: 50.0927 - val_accuracy: 0.0000e+00\n",
      "Epoch 6/10\n",
      "333/333 [==============================] - 1s 2ms/step - loss: 49.1589 - accuracy: 0.0000e+00 - val_loss: 50.0927 - val_accuracy: 0.0000e+00\n",
      "Epoch 7/10\n",
      "333/333 [==============================] - 1s 2ms/step - loss: 49.1589 - accuracy: 0.0000e+00 - val_loss: 50.0927 - val_accuracy: 0.0000e+00\n",
      "Epoch 8/10\n",
      "333/333 [==============================] - 1s 2ms/step - loss: 49.1589 - accuracy: 0.0000e+00 - val_loss: 50.0927 - val_accuracy: 0.0000e+00\n",
      "Epoch 9/10\n",
      "333/333 [==============================] - 1s 2ms/step - loss: 49.1589 - accuracy: 0.0000e+00 - val_loss: 50.0927 - val_accuracy: 0.0000e+00\n",
      "Epoch 10/10\n",
      "333/333 [==============================] - 1s 2ms/step - loss: 49.1589 - accuracy: 0.0000e+00 - val_loss: 50.0927 - val_accuracy: 0.0000e+00\n"
     ]
    }
   ],
   "source": [
    "history=model.fit(x_train, y_train, epochs = epoch, batch_size = batch_size,\n",
    "                  shuffle=False,validation_split=.1) #训练模型epoch次"
   ]
  },
  {
   "cell_type": "code",
   "execution_count": 90,
   "metadata": {},
   "outputs": [
    {
     "data": {
      "image/png": "[encoded data removed]",
      "text/plain": [
       "<Figure size 576x396 with 1 Axes>"
      ]
     },
     "metadata": {},
     "output_type": "display_data"
    }
   ],
   "source": [
    "#获得网络权重\n",
    "#weights = np.array(model.get_weights())\n",
    "#print(weights)\n",
    "#输出attention层权重\n",
    "attention_layer_model = Model(inputs=model.input,outputs=model.get_layer('attention_weight').output)\n",
    "attention_weight = attention_layer_model.predict(x_train)\n",
    "attention_weight_final=np.mean(np.array(attention_weight), axis=0)\n",
    "pd.DataFrame(attention_weight_final, columns=['attention (%)']).plot(kind='bar',\n",
    "                                                                         title='Attention Mechanism as '\n",
    "                                                                               'a function of input'\n",
    "                                                                               ' dimensions.')\n",
    "plt.show()"
   ]
  },
  {
   "cell_type": "code",
   "execution_count": 91,
   "metadata": {},
   "outputs": [
    {
     "data": {
      "image/png": "[encoded data removed]",
      "text/plain": [
       "<Figure size 576x396 with 1 Axes>"
      ]
     },
     "metadata": {},
     "output_type": "display_data"
    }
   ],
   "source": [
    "#迭代图像\n",
    "loss = history.history['loss']\n",
    "val_loss = history.history['val_loss']\n",
    "epochs_range = range(epoch)\n",
    "plt.plot(epochs_range, loss, label='Train Loss')\n",
    "plt.plot(epochs_range, val_loss, label='Validation Loss')\n",
    "plt.legend(loc='upper right')\n",
    "plt.title('Train and Val Loss')\n",
    "plt.show()"
   ]
  },
  {
   "cell_type": "code",
   "execution_count": 92,
   "metadata": {},
   "outputs": [
    {
     "data": {
      "text/plain": [
       "Text(0.5, 1.0, 'Train Data')"
      ]
     },
     "execution_count": 92,
     "metadata": {},
     "output_type": "execute_result"
    },
    {
     "data": {
      "image/png": "[encoded data removed]",
      "text/plain": [
       "<Figure size 864x432 with 1 Axes>"
      ]
     },
     "metadata": {},
     "output_type": "display_data"
    }
   ],
   "source": [
    "#在训练集上的拟合结果\n",
    "y_train_predict=model.predict(x_train)*scale\n",
    "y_train_predict=y_train_predict[:,0]\n",
    "draw=pd.concat([pd.DataFrame(y_train),pd.DataFrame(y_train_predict)],axis=1)\n",
    "draw.iloc[200:500,0].plot(figsize=(12,6))\n",
    "draw.iloc[200:500,1].plot(figsize=(12,6))\n",
    "plt.legend(('real', 'predict'),fontsize='15')\n",
    "plt.title(\"Train Data\",fontsize='30') #添加标题"
   ]
  },
  {
   "cell_type": "code",
   "execution_count": 93,
   "metadata": {},
   "outputs": [
    {
     "data": {
      "text/plain": [
       "Text(0.5, 1.0, 'Test Data')"
      ]
     },
     "execution_count": 93,
     "metadata": {},
     "output_type": "execute_result"
    },
    {
     "data": {
      "image/png": "[encoded data removed]",
      "text/plain": [
       "<Figure size 864x432 with 1 Axes>"
      ]
     },
     "metadata": {},
     "output_type": "display_data"
    }
   ],
   "source": [
    "#在测试集上的预测\n",
    "y_test_predict=model.predict(x_test)*scale\n",
    "y_test_predict=y_test_predict[:,0]\n",
    "draw=pd.concat([pd.DataFrame(y_test),pd.DataFrame(y_test_predict)],axis=1);\n",
    "draw.iloc[200:500,0].plot(figsize=(12,6))\n",
    "draw.iloc[200:500,1].plot(figsize=(12,6))\n",
    "plt.legend(('real', 'predict'),loc='upper right',fontsize='15')\n",
    "plt.title(\"Test Data\",fontsize='30') #添加标题"
   ]
  },
  {
   "cell_type": "code",
   "execution_count": null,
   "metadata": {},
   "outputs": [],
   "source": []
  },
  {
   "cell_type": "code",
   "execution_count": null,
   "metadata": {},
   "outputs": [],
   "source": []
  },
  {
   "cell_type": "code",
   "execution_count": null,
   "metadata": {},
   "outputs": [],
   "source": []
  }
 ],
 "metadata": {
  "kernelspec": {
   "display_name": "Python 3",
   "language": "python",
   "name": "python3"
  },
  "language_info": {
   "codemirror_mode": {
    "name": "ipython",
    "version": 3
   },
   "file_extension": ".py",
   "mimetype": "text/x-python",
   "name": "python",
   "nbconvert_exporter": "python",
   "pygments_lexer": "ipython3",
   "version": "3.7.7"
  }
 },
 "nbformat": 4,
 "nbformat_minor": 2
}
